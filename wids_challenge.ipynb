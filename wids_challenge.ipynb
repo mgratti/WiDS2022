{
 "cells": [
  {
   "cell_type": "code",
   "execution_count": 258,
   "id": "6212cecf-1996-4a20-8688-661123fe9d36",
   "metadata": {},
   "outputs": [],
   "source": [
    "import pandas as pd\n",
    "import sklearn\n",
    "import numpy as np\n",
    "\n",
    "%matplotlib inline\n",
    "import matplotlib as mpl\n",
    "import matplotlib.pyplot as plt\n",
    "mpl.rc('axes', labelsize=14)\n",
    "mpl.rc('xtick', labelsize=12)\n",
    "mpl.rc('ytick', labelsize=12)\n",
    "\n",
    "import seaborn as sns\n",
    "\n",
    "pd.options.display.max_columns = None\n",
    "pd.options.display.max_rows = 300\n",
    "pd.options.display.max_colwidth = None\n",
    "\n",
    "\n",
    "from sklearn.linear_model import ElasticNet"
   ]
  },
  {
   "cell_type": "code",
   "execution_count": 2,
   "id": "0c44e385-e898-4c7d-8d95-e8a232913482",
   "metadata": {},
   "outputs": [
    {
     "name": "stderr",
     "output_type": "stream",
     "text": [
      "OMP: Info #271: omp_set_nested routine deprecated, please use omp_set_max_active_levels instead.\n"
     ]
    }
   ],
   "source": [
    "import dcor\n",
    "def disCorrelation(df):\n",
    "  '''\n",
    "  Calculates Disco correlation matrix, starting from a df with only numerical attributes\n",
    "  Returns a dataframe with the correlation coefficients\n",
    "  '''\n",
    "  discorr = np.ones((len(df.columns),len(df.columns)))\n",
    "  print(discorr.shape)\n",
    "  for iX,(labelX,X) in enumerate(df.items()):\n",
    "    for iY,(labelY,Y) in enumerate(df.items()):\n",
    "      discorr[iX,iY] = dcor.distance_correlation(X.to_numpy(),Y.to_numpy())\n",
    "      \n",
    "  df_discorr = pd.DataFrame(data=discorr,    # values\n",
    "                            index=df.columns,\n",
    "                            columns=df.columns,\n",
    "                           ) \n",
    "  return df_discorr\n",
    "  #return discorr"
   ]
  },
  {
   "cell_type": "markdown",
   "id": "b48857eb-6944-41a6-aaf0-4bdef8731019",
   "metadata": {},
   "source": [
    "# Imports"
   ]
  },
  {
   "cell_type": "code",
   "execution_count": 239,
   "id": "699cfb99-c613-4995-a4ee-ee4666884cc8",
   "metadata": {},
   "outputs": [],
   "source": [
    "from sklearn.metrics import mean_squared_error\n",
    "from sklearn.model_selection import train_test_split\n",
    "from sklearn.linear_model import SGDRegressor\n",
    "from sklearn.model_selection import cross_val_score, cross_val_predict\n",
    "from copy import deepcopy\n",
    "from sklearn.preprocessing import StandardScaler, OneHotEncoder, MinMaxScaler, OrdinalEncoder \n",
    "import xgboost\n",
    "from sklearn.model_selection import GridSearchCV"
   ]
  },
  {
   "cell_type": "markdown",
   "id": "4a47c085-4b07-4c16-8b65-6f50a006f9a8",
   "metadata": {},
   "source": [
    "# Pre-processing functions"
   ]
  },
  {
   "cell_type": "markdown",
   "id": "67e0272c-5d02-475f-be3f-9a4cb6de6885",
   "metadata": {},
   "source": [
    "## Auxiliary functions"
   ]
  },
  {
   "cell_type": "code",
   "execution_count": 4,
   "id": "05e5f431-fa93-4092-b2f2-189f6870c364",
   "metadata": {},
   "outputs": [],
   "source": [
    "def splitTestTrain(df):\n",
    "  '''\n",
    "  Split the dataframe into train set and test set, based on year_factor\n",
    "  '''\n",
    "  df_test = df[df['year_factor']==7].copy()\n",
    "  df_train = df[df['year_factor']<7].copy()\n",
    "  return df_train,df_test\n"
   ]
  },
  {
   "cell_type": "code",
   "execution_count": 404,
   "id": "a0ea70b1-6775-4897-97a2-46a0848a2a2d",
   "metadata": {},
   "outputs": [],
   "source": [
    "def plot_feature_importances(f_imps, f_names, title=\"\", threshold=None):\n",
    "  #print(f_imps,type(f_imps)) \n",
    "  \n",
    "  df = pd.DataFrame(data={'name':f_names, 'importance':f_imps})\n",
    "    \n",
    "  if threshold:\n",
    "    df_highest = df[df['importance']>threshold].sort_values('importance', ascending=False)\n",
    "  \n",
    "  #f_imps_selected = a[a<2] \n",
    "  #f_imps = np.array(f_imps)\n",
    "  #f_names = np.array(f_names)\n",
    "  #sort_inds = np.argsort(f_imps)\n",
    "  yy = np.arange(len(df_highest)).astype(np.int)\n",
    "  \n",
    "  \n",
    "  plt.barh(yy, df_highest['importance'])\n",
    "  plt.yticks(yy, df_highest['name'], size=11)\n",
    "  plt.xticks(size=11)\n",
    "  plt.xlabel(\"Feature importance\", size=14)\n",
    "  plt.title(title, size=14)\n",
    "  plt.show()"
   ]
  },
  {
   "cell_type": "markdown",
   "id": "5dc18f30-4313-42a4-930e-a243bfdc3a42",
   "metadata": {},
   "source": [
    "## Data Reading"
   ]
  },
  {
   "cell_type": "code",
   "execution_count": 5,
   "id": "85a644c0-9a0e-4aae-8550-90d006439d48",
   "metadata": {},
   "outputs": [],
   "source": [
    "def dataRead(f_train='train.csv', f_test='test.csv'):\n",
    "  '''\n",
    "  Read the data into pandas DataFrames\n",
    "  '''\n",
    "  df_train = pd.read_csv('train.csv')\n",
    "  df_test = pd.read_csv('test.csv')\n",
    "  return df_train, df_test"
   ]
  },
  {
   "cell_type": "markdown",
   "id": "6862948c-6288-488e-9de9-6f7708bf07da",
   "metadata": {},
   "source": [
    "## Data Pre-processing"
   ]
  },
  {
   "cell_type": "code",
   "execution_count": 6,
   "id": "8a568e7c-75df-4398-a7c8-68f472ee93cf",
   "metadata": {},
   "outputs": [],
   "source": [
    "def dataPreprocess(df_train,df_test):\n",
    "  '''\n",
    "  Preprocess the data:\n",
    "    - remove outliers \n",
    "    - fill missing values\n",
    "    - drop duplicates\n",
    "    - encode text into categories\n",
    "    - discretise continuous variables if needed \n",
    "\n",
    "  Note a different treatment between training and test set.\n",
    "  '''\n",
    "  print('\\nPreprocessing the data...\\n')\n",
    "  \n",
    "  df = pd.concat([df_train,df_test])\n",
    "  \n",
    "  # first replace all possible infinities with nans, so that the imputation operates on those as well\n",
    "  df.replace([-np.inf,np.inf], np.nan)\n",
    "  \n",
    "  # rename columns so that we have everything with the same case\n",
    "  df = df.rename(columns={'Year_Factor':'year_factor', 'State_Factor':'state_factor', 'ELEVATION': 'elevation'})\n",
    "    \n",
    "  # state_factor obj => to int \n",
    "  df.insert(loc=2, column='state_id', value=df['state_factor'].str.split('_').str.get(1).astype(int))\n",
    "\n",
    "  # building_class obj => to int\n",
    "  df.insert(loc=4, column='is_residential',  value=(df['building_class'] == 'Residential'))\n",
    "  df['is_residential'] = df['is_residential'].astype(int)\n",
    "  \n",
    "  # elevation categorisation => to int \n",
    "  elevation_bins = [-np.inf,40,100,150,250,400,1000,np.inf]\n",
    "  df.insert(loc=10, column='elevation_cat', value=pd.cut(x=df['elevation'], bins=elevation_bins, labels=False))\n",
    "  \n",
    "  # facility type super categorisation\n",
    "  df.insert(loc=6, column='facility_type_super', value=df['facility_type'].str.split('_').str.get(0))\n",
    "    \n",
    "  # year_built imputation \n",
    "  print('\\nYear built imputation')\n",
    "  #print ('Before 0 substitution, number of NaNs: {}'.format(df_exp.year_built.isna().sum()))\n",
    "  df['year_built'].replace(0,np.nan)\n",
    "  n_nans = df.year_built.isna().sum()\n",
    "  print ('Before imputation, number of NaNs: {}'.format(n_nans))\n",
    "  imputation_list = ['state_id','floor_area', 'building_class', 'facility_type']\n",
    "  for istart,feat in enumerate(imputation_list):\n",
    "    if n_nans > 0:\n",
    "      print(imputation_list[istart:])\n",
    "      df['year_imputed'] = df.groupby(imputation_list[istart:])['year_built'].transform('median')\n",
    "      df['year_built'] = df['year_built'].fillna(df['year_imputed'] )\n",
    "      n_nans = df.year_built.isna().sum()\n",
    "      print ('After imputation step {}, number of NaNs: {}'.format(istart+1, n_nans))\n",
    "  \n",
    "  # year_built categorisation => to int\n",
    "  year_built_bins = [-np.inf,1850,1899,1919,1933,1945,1955,1965,1975,1985,1995,2005,np.inf]\n",
    "  df.insert(loc=8, column='year_built_cat', value=pd.cut(df['year_built'], bins=year_built_bins, labels=False))\n",
    "\n",
    "  # energy_star_rating imputation\n",
    "  print('\\nEnergy star rating imputation')\n",
    "  n_nans = df.energy_star_rating.isna().sum()\n",
    "  print ('Before imputation, number of NaNs: {}'.format(n_nans))\n",
    "  imputation_list = ['state_id', 'floor_area', 'building_class', 'facility_type', 'year_built_cat']\n",
    "  for istart,feat in enumerate(imputation_list):\n",
    "    if n_nans > 0:\n",
    "      print(imputation_list[istart:])\n",
    "      df['energy_star_rating_imputed'] = df.groupby(imputation_list[istart:])['energy_star_rating'].transform('median')\n",
    "      df['energy_star_rating'] = df['energy_star_rating'].fillna(df['energy_star_rating_imputed'])\n",
    "      n_nans = df.energy_star_rating.isna().sum()\n",
    "      print ('After imputation step {}, number of NaNs: {}'.format(istart+1, n_nans))\n",
    "      \n",
    "  # avg temperature categorisation => to int\n",
    "  avg_temp_bins = [-np.inf,52,55,57,58,65,np.inf]\n",
    "  df.insert(loc=55, column='avg_temp_cat', value=pd.cut(df['avg_temp'], bins=avg_temp_bins, labels=False))\n",
    "  \n",
    "  # days_with_fog imputation\n",
    "  # it makes sense to impute it based on year_factor, elevation_cat, temperature ranges in the avg_temp, \n",
    "  print('\\nDays_with_fog imputation')\n",
    "  n_nans = df.days_with_fog.isna().sum()\n",
    "  print ('Before imputation, number of NaNs: {}'.format(n_nans))\n",
    "  imputation_list = ['year_factor','elevation_cat', 'avg_temp_cat']\n",
    "  for istart,feat in enumerate(imputation_list):\n",
    "    if n_nans > 0:\n",
    "      print(imputation_list[istart:])\n",
    "      df['days_with_fog_imputed'] = df.groupby(imputation_list[istart:])['days_with_fog'].transform('median')\n",
    "      df['days_with_fog'] = df['days_with_fog'].fillna(df['days_with_fog_imputed'] )\n",
    "      n_nans = df.days_with_fog.isna().sum()\n",
    "      print ('After imputation step {}, number of NaNs: {}'.format(istart+1, n_nans))\n",
    "  \n",
    "  # we separate training and test set because we have a treatment only for the training set\n",
    "  df_train = df.loc[df.year_factor<7].copy()\n",
    "  df_test = df.loc[df.year_factor==7].copy()\n",
    "  \n",
    "  # drop \"duplicates\" from the training set\n",
    "  #   we define duplicates all those entries that have equal year_factor, year_built, state_factor, building_type\n",
    "  #     This is needed if we want to be able to create a previous history of buildings \n",
    "  #     It comes with the assumption that the elevation is not to be trusted \n",
    "  #     for distinguishing a building from another\n",
    "  subset_for_duplicates = ['year_factor', 'building_class', 'facility_type', 'floor_area', 'year_built']\n",
    "  df_train = df_train.drop_duplicates(subset=subset_for_duplicates, keep='first')\n",
    "  # we have to remove one example by hand (imputed year slightly different, but same temperatures, etc)\n",
    "  df_train = df_train.drop(index=35748) \n",
    "  \n",
    "  df = pd.concat([df_train,df_test]).reset_index(drop=True)   \n",
    "\n",
    "  # building id determination\n",
    "  df.insert(loc=1, column='building_id', \n",
    "            value=df['state_id'].astype('str') + '_' + df['year_built'].astype('int').astype('str') + '_' \\\n",
    "                 +df['facility_type'].astype('str') + '_' + df['floor_area'].astype('int').astype('str')# \\\n",
    "                 #+ '_' + df['elevation'].astype('str')\n",
    "           )\n",
    "  df['building_count'] = df.groupby('building_id')['year_factor'].transform('count')\n",
    "  \n",
    "  # determine whether given row has a previous history (same building_id, preceding year)\n",
    "  ## sort df by year_factor (to make sure that year_factor order is maintained when grouping)\n",
    "  df = df.sort_values(by='year_factor')\n",
    "  \n",
    "  ## calculate year diff (with preceding row) inside the building_id grouping\n",
    "  df['year_factor_diff_1'] = df.groupby('building_id')['year_factor'].diff(1)\n",
    "  df['year_factor_diff_2'] = df.groupby('building_id')['year_factor'].diff(2)\n",
    "  \n",
    "  df_train = df.loc[df.year_factor<7].copy()\n",
    "  df_test = df.loc[df.year_factor==7].copy()  \n",
    "  \n",
    "  # for training set, where building_id is unique and sorted by year_factor \n",
    "  df_train.insert(loc=2, column='has_previous_history',\n",
    "                  value=(df['year_factor_diff_1']>0).astype('int'))\n",
    "  \n",
    "  df_test.insert(loc=2, column='has_previous_history',\n",
    "                  value=( (df['year_factor_diff_1']>0) | (df['year_factor_diff_2']>0) ).astype('int'))\n",
    "  \n",
    "  df = pd.concat([df_train,df_test]).reset_index(drop=True)   \n",
    "\n",
    "  df.insert(loc=3, column='building_id_sameyear_factor_count', \n",
    "            value=df.groupby(['building_id','year_factor'])['id'].transform('count'))\n",
    "\n",
    "  print('\\nPreprocessing of data ended...\\n')\n",
    "  \n",
    "  return df"
   ]
  },
  {
   "cell_type": "markdown",
   "id": "d72b84d7-2fde-42f8-aee4-6fea0fce716f",
   "metadata": {},
   "source": [
    "## Feature Encoding"
   ]
  },
  {
   "cell_type": "code",
   "execution_count": 83,
   "id": "859061a0-dae1-49f7-b493-98f25c95950e",
   "metadata": {},
   "outputs": [],
   "source": [
    "def featureEncode(df):\n",
    "  '''\n",
    "  Perform one-hot encoding / ordinal encoding of categorical features (which were already transformed to int)\n",
    "  Encoded features are added to the original dataframe with name 'enc_featname_i' \n",
    "  '''\n",
    "  \n",
    "  features_onehot = [\n",
    "    'state_id',\n",
    "    'facility_type',\n",
    "    'facility_type_super',\n",
    "  ]\n",
    "  \n",
    "  for feat in features_onehot:\n",
    "    encoder = OneHotEncoder(sparse=False)\n",
    "    X = encoder.fit_transform(df[feat].to_numpy().reshape(-1,1))\n",
    "    for i in range(0,X.shape[1]):\n",
    "      encoded_col = 'enc_{f}_{i}'.format(f=feat,i=i)\n",
    "      df[encoded_col] = X[:,i]  \n",
    "  \n",
    "  return df"
   ]
  },
  {
   "cell_type": "markdown",
   "id": "41008806-54f5-4514-8da8-54ac80d177cb",
   "metadata": {},
   "source": [
    "## Feature Engineering with History"
   ]
  },
  {
   "cell_type": "code",
   "execution_count": 8,
   "id": "fb73fe12-8b04-4f04-a4ec-0a7827d9161f",
   "metadata": {},
   "outputs": [],
   "source": [
    "def featureEngineerHistory(df):\n",
    "  '''\n",
    "  - Add promising single transformations\n",
    "  - Aggreagate features into promising new features\n",
    "  '''\n",
    "  \n",
    "  print('\\nFeature Engineering for events with previous history...\\n')\n",
    "\n",
    "  \n",
    "  df['cooling_heating_degree_days'] = df['cooling_degree_days'] + df['heating_degree_days']\n",
    "  \n",
    "  # time lags and diffs:\n",
    "  # - energy_star_rating: lag and diff, by 1 and 2 periods\n",
    "  # - site_eui:           lag, by 1 and 2 periods (maybe more?)\n",
    "  # - weather features:   diff, by 1 and 2 periods \n",
    "  \n",
    "  \n",
    "  fna = -200\n",
    "  lags = [1,2]\n",
    "  weather_features = ['january_avg_temp',  'january_min_temp',  'january_max_temp',  'february_avg_temp',  \n",
    "                      #'february_min_temp',  'february_max_temp',  'march_avg_temp',  'march_min_temp',  \n",
    "                      #'march_max_temp',  'april_avg_temp',  'april_min_temp',  'april_max_temp',  \n",
    "                      #'may_avg_temp',  'may_min_temp',  'may_max_temp',  'june_avg_temp',  \n",
    "                      #'june_min_temp',  'june_max_temp',  'july_avg_temp',  'july_min_temp',  \n",
    "                      #'july_max_temp',  'august_avg_temp',  'august_min_temp',  'august_max_temp',  \n",
    "                      #'september_avg_temp',  'september_min_temp',  'september_max_temp',  'october_avg_temp',  \n",
    "                      #'october_min_temp',  'october_max_temp',  'november_avg_temp',  'november_min_temp',  \n",
    "                      #'november_max_temp',  'december_avg_temp',  'december_min_temp',  'december_max_temp',\n",
    "                      #\n",
    "                      'avg_temp',\n",
    "                      #\n",
    "                      #'days_below_30F','days_below_20F','days_below_10F','days_below_0F',\n",
    "                      #'days_above_80F','days_above_90F','days_above_100F','days_above_110F', \n",
    "                      #\n",
    "                      'cooling_degree_days','heating_degree_days', 'cooling_heating_degree_days', \n",
    "                      #\n",
    "                      #'precipitation_inches', 'snowfall_inches', 'snowdepth_inches',\n",
    "                      #\n",
    "                      #'days_with_fog',\n",
    "                     ]\n",
    "  \n",
    "  for lag in lags:\n",
    "    print('\\nLag {}'.format(lag))\n",
    "    df['energy_star_rating_lag_{}'.format(lag)] = df.groupby('building_id')['energy_star_rating'].shift(lag).fillna(fna)\n",
    "    df['energy_star_rating_diff_{}'.format(lag)] = df.groupby('building_id')['energy_star_rating'].diff(lag).fillna(fna)\n",
    "  \n",
    "    df['site_eui_lag_{}'.format(lag)] = df.groupby('building_id')['site_eui'].shift(lag).fillna(fna)\n",
    "    \n",
    "    for feat in weather_features:\n",
    "      df['{}_lag_{}'.format(feat,lag)] = df.groupby('building_id')[feat].shift(lag).fillna(fna)\n",
    "      df['{}_diff_{}'.format(feat,lag)] = df.groupby('building_id')[feat].diff(lag).fillna(fna)\n",
    "  \n",
    "  \n",
    "  print('\\nFeature Engineering ended...\\n')\n",
    "\n",
    "  \n",
    "  return df"
   ]
  },
  {
   "cell_type": "markdown",
   "id": "fb886529-8cc1-48a2-8f0a-19d4f892a869",
   "metadata": {},
   "source": [
    "## Feature Engineering (no History)"
   ]
  },
  {
   "cell_type": "code",
   "execution_count": 106,
   "id": "18d8f46c-198a-4340-947e-9b4185c7b5f8",
   "metadata": {},
   "outputs": [],
   "source": [
    "def featureEngineer(df):\n",
    "  '''\n",
    "  - Add promising single transformations\n",
    "  - Aggreagate features into promising new features\n",
    "  '''\n",
    "  \n",
    "  print('\\nFeature Engineering for events without previous history...\\n')\n",
    "\n",
    "  \n",
    "  df['cooling_heating_degree_days'] = df['cooling_degree_days'] + df['heating_degree_days']\n",
    "  \n",
    "  # seasonal characteristics (calculate avg, min, max from available information)\n",
    "  seasons = ['winter', 'spring', 'summer', 'fall']\n",
    "  months = {\n",
    "    'winter': ['january', 'february', 'march'],\n",
    "    'spring': ['april', 'may', 'june'],\n",
    "    'summer': ['july','august','september',],\n",
    "    'fall'  : ['october','november','december',]\n",
    "  }\n",
    "  \n",
    "  aggs = ['avg', 'min', 'max']\n",
    "  \n",
    "  for season in seasons:\n",
    "    for agg in aggs:\n",
    "      l = ['{}_{}_temp'.format(month,agg) for month in months[season]]\n",
    "      df['{}_{}_temp'.format(season,agg)] = df[l].mean(axis=1)\n",
    "      #print(df['{}_{}_temp'.format(season,agg)])\n",
    "\n",
    "  print('\\nFeature Engineering ended...\\n')\n",
    "\n",
    "  \n",
    "  return df"
   ]
  },
  {
   "cell_type": "markdown",
   "id": "e125a796-c86f-4529-b48b-22ceed221ab4",
   "metadata": {},
   "source": [
    "## Feature Scaling with History"
   ]
  },
  {
   "cell_type": "code",
   "execution_count": 9,
   "id": "806c0a69-5fb4-4a35-9307-ec35c730b826",
   "metadata": {},
   "outputs": [],
   "source": [
    "def featureScaleHistory(df):\n",
    "  '''\n",
    "  Apply feature scaling (minmax or standardisation)\n",
    "  '''\n",
    "  \n",
    "  features_minmax = [\n",
    "    'site_eui_lag_1', \n",
    "    'site_eui_lag_2', \n",
    "    'energy_star_rating', \n",
    "    'energy_star_rating_lag_2',\n",
    "    'energy_star_rating_lag_1', \n",
    "    'january_min_temp', \n",
    "    'january_avg_temp', \n",
    "    'january_min_temp_lag_1',\n",
    "    \n",
    "  ]\n",
    "  \n",
    "  features_std = ['cooling_heating_degree_days']\n",
    "\n",
    "  for feat in features_minmax:\n",
    "    scaler = MinMaxScaler()\n",
    "    feat_scaled = scaler.fit_transform(df[feat].to_numpy().reshape(-1, 1))\n",
    "    df['scaled_'+feat] = feat_scaled.reshape(-1)\n",
    "    \n",
    "  for feat in features_std:\n",
    "    scaler = StandardScaler()\n",
    "    feat_scaled = scaler.fit_transform(df[feat].to_numpy().reshape(-1, 1))\n",
    "    df['scaled_'+feat] = feat_scaled.reshape(-1)\n",
    "\n",
    "  return df"
   ]
  },
  {
   "cell_type": "markdown",
   "id": "7e58eb9b-f91b-495c-b5e7-429858abb5e0",
   "metadata": {},
   "source": [
    "## Feature Scaling (no History)"
   ]
  },
  {
   "cell_type": "code",
   "execution_count": 134,
   "id": "12052f84-12e4-49c9-a5e0-e6c177cc6832",
   "metadata": {},
   "outputs": [],
   "source": [
    "def featureScale(df):\n",
    "  '''\n",
    "  Apply feature scaling (minmax or standardisation)\n",
    "  '''\n",
    "  \n",
    "  features_minmax = [ \n",
    "    'year_built',\n",
    "    'energy_star_rating', \n",
    "    \n",
    "    'january_min_temp', 'january_avg_temp', 'january_max_temp',\n",
    "    'february_min_temp', 'february_avg_temp', 'february_max_temp',\n",
    "    'march_min_temp', 'march_avg_temp', 'march_max_temp', 'april_min_temp',\n",
    "    'april_avg_temp', 'april_max_temp', 'may_min_temp', 'may_avg_temp',\n",
    "    'may_max_temp', 'june_min_temp', 'june_avg_temp', 'june_max_temp',\n",
    "    'july_min_temp', 'july_avg_temp', 'july_max_temp', 'august_min_temp',\n",
    "    'august_avg_temp', 'august_max_temp', 'september_min_temp',\n",
    "    'september_avg_temp', 'september_max_temp', 'october_min_temp',\n",
    "    'october_avg_temp', 'october_max_temp', 'november_min_temp',\n",
    "    'november_avg_temp', 'november_max_temp', 'december_min_temp',\n",
    "    'december_avg_temp', 'december_max_temp', 'cooling_degree_days',\n",
    "    \n",
    "    'winter_min_temp', 'winter_max_temp', 'spring_avg_temp',\n",
    "    'spring_min_temp', 'spring_max_temp', 'summer_avg_temp',\n",
    "    'summer_min_temp', 'summer_max_temp', 'fall_avg_temp',\n",
    "    'fall_min_temp', 'fall_max_temp', \n",
    "    \n",
    "    'avg_temp',\n",
    "    \n",
    "    'days_below_30F','days_below_20F','days_below_10F','days_below_0F','days_above_80F','days_above_90F','days_above_100F','days_above_110F',\n",
    "    \n",
    "    'precipitation_inches',\n",
    "    'days_with_fog',\n",
    "    'direction_max_wind_speed',\n",
    "    'direction_peak_wind_speed',\n",
    "    'max_wind_speed',\n",
    "\n",
    "  ]\n",
    "  \n",
    "  features_std = [\n",
    "    'cooling_heating_degree_days',\n",
    "    'cooling_degree_days',\n",
    "    'heating_degree_days',\n",
    "    'elevation',\n",
    "    'floor_area',\n",
    "    'snowdepth_inches',\n",
    "    'snowfall_inches',\n",
    "\n",
    "  ]\n",
    "\n",
    "  for feat in features_minmax:\n",
    "    scaler = MinMaxScaler()\n",
    "    feat_scaled = scaler.fit_transform(df[feat].to_numpy().reshape(-1, 1))\n",
    "    df['scaled_'+feat] = feat_scaled.reshape(-1)\n",
    "    \n",
    "  for feat in features_std:\n",
    "    scaler = StandardScaler()\n",
    "    feat_scaled = scaler.fit_transform(df[feat].to_numpy().reshape(-1, 1))\n",
    "    df['scaled_'+feat] = feat_scaled.reshape(-1)\n",
    "\n",
    "  return df"
   ]
  },
  {
   "cell_type": "markdown",
   "id": "751331e2-054d-46c5-b8d3-c78d86e3c9c6",
   "metadata": {},
   "source": [
    "## Feature Selection with History"
   ]
  },
  {
   "cell_type": "code",
   "execution_count": 141,
   "id": "85239eee-78d5-4b9d-b81d-b68e99074b73",
   "metadata": {},
   "outputs": [],
   "source": [
    "def featureSelectHistory(df):\n",
    "  '''\n",
    "  Keep only a subset of the features\n",
    "  '''\n",
    "  \n",
    "  ## keep only \n",
    "  features_to_use = [ \n",
    "       'site_eui',\n",
    "       'year_factor',\n",
    "       'has_previous_history',\n",
    "       'scaled_site_eui_lag_1',\n",
    "       'scaled_site_eui_lag_2', \n",
    "       'scaled_energy_star_rating',\n",
    "       'scaled_energy_star_rating_lag_1',\n",
    "       'scaled_energy_star_rating_lag_2', \n",
    "       'scaled_january_min_temp', \n",
    "       'scaled_january_avg_temp',\n",
    "       'scaled_january_min_temp_lag_1', \n",
    "       'scaled_cooling_heating_degree_days',\n",
    "      ]\n",
    "\n",
    "  return df[features_to_use].copy() \n",
    "\n",
    "  # I return a copy, because I would get warnings and potentially unpredictable behaviour \n",
    "  # if I then apply further slicing/indexing to an already sliced dataset\n",
    "  \n",
    "  \n",
    "  # building_class\n",
    "  # state_factor\n",
    "  \n",
    "  # 'direction_max_wind_speed', 'direction_peak_wind_speed', 'max_wind_speed',\n",
    "  \n",
    "  # year_imputed, energy_star_rating_imputed, days_with_fog_imputed, building_count\n",
    "  \n",
    "  return df"
   ]
  },
  {
   "cell_type": "markdown",
   "id": "d867dafe-1f83-4b8a-96ba-340f78998f5b",
   "metadata": {},
   "source": [
    "## Feature Selection (no History)"
   ]
  },
  {
   "cell_type": "code",
   "execution_count": 163,
   "id": "9effb831-1f2d-4a1d-acc5-de68bc2abf67",
   "metadata": {},
   "outputs": [],
   "source": [
    "def featureSelect(df):\n",
    "  '''\n",
    "  Keep only a subset of the features\n",
    "  '''\n",
    "  \n",
    "  features_to_use = [\n",
    "    'site_eui', \n",
    "    \n",
    "    #'id',\n",
    "    'year_factor', \n",
    "    #'building_id', \n",
    "    'has_previous_history',\n",
    "    #'building_id_sameyear_factor_count', \n",
    "    \n",
    "    'is_residential', \n",
    "    'year_built_cat',\n",
    "    'scaled_year_built',\n",
    "    'scaled_energy_star_rating', \n",
    "    'elevation_cat',\n",
    "    'scaled_elevation', \n",
    "    'scaled_floor_area', \n",
    "\n",
    "    # state id encoding\n",
    "    'enc_state_id_0', 'enc_state_id_1',\n",
    "    'enc_state_id_2', 'enc_state_id_3', 'enc_state_id_4',\n",
    "    'enc_state_id_5', 'enc_state_id_6', 'enc_facility_type_0',\n",
    "    \n",
    "    # facility type encoding\n",
    "    'enc_facility_type_1', 'enc_facility_type_2',\n",
    "    'enc_facility_type_3', 'enc_facility_type_4',\n",
    "    'enc_facility_type_5', 'enc_facility_type_6',\n",
    "    'enc_facility_type_7', 'enc_facility_type_8',\n",
    "    'enc_facility_type_9', 'enc_facility_type_10',\n",
    "    'enc_facility_type_11', 'enc_facility_type_12',\n",
    "    'enc_facility_type_13', 'enc_facility_type_14',\n",
    "    'enc_facility_type_15', 'enc_facility_type_16',\n",
    "    'enc_facility_type_17', 'enc_facility_type_18',\n",
    "    'enc_facility_type_19', 'enc_facility_type_20',\n",
    "    'enc_facility_type_21', 'enc_facility_type_22',\n",
    "    'enc_facility_type_23', 'enc_facility_type_24',\n",
    "    'enc_facility_type_25', 'enc_facility_type_26',\n",
    "    'enc_facility_type_27', 'enc_facility_type_28',\n",
    "    'enc_facility_type_29', 'enc_facility_type_30',\n",
    "    'enc_facility_type_31', 'enc_facility_type_32',\n",
    "    'enc_facility_type_33', 'enc_facility_type_34',\n",
    "    'enc_facility_type_35', 'enc_facility_type_36',\n",
    "    'enc_facility_type_37', 'enc_facility_type_38',\n",
    "    'enc_facility_type_39', 'enc_facility_type_40',\n",
    "    'enc_facility_type_41', 'enc_facility_type_42',\n",
    "    'enc_facility_type_43', 'enc_facility_type_44',\n",
    "    'enc_facility_type_45', 'enc_facility_type_46',\n",
    "    'enc_facility_type_47', 'enc_facility_type_48',\n",
    "    'enc_facility_type_49', 'enc_facility_type_50',\n",
    "    'enc_facility_type_51', 'enc_facility_type_52',\n",
    "    'enc_facility_type_53', 'enc_facility_type_54',\n",
    "    'enc_facility_type_55', 'enc_facility_type_56',\n",
    "    'enc_facility_type_57', 'enc_facility_type_58',\n",
    "    'enc_facility_type_59', 'enc_facility_type_super_0',\n",
    "    'enc_facility_type_super_1', 'enc_facility_type_super_2',\n",
    "    'enc_facility_type_super_3', 'enc_facility_type_super_4',\n",
    "    'enc_facility_type_super_5', 'enc_facility_type_super_6',\n",
    "    'enc_facility_type_super_7', 'enc_facility_type_super_8',\n",
    "    'enc_facility_type_super_9', 'enc_facility_type_super_10',\n",
    "    'enc_facility_type_super_11', 'enc_facility_type_super_12',\n",
    "    'enc_facility_type_super_13', 'enc_facility_type_super_14',\n",
    "    'enc_facility_type_super_15', 'enc_facility_type_super_16',\n",
    "    'enc_facility_type_super_17', 'enc_facility_type_super_18',\n",
    "    'enc_facility_type_super_19', 'enc_facility_type_super_20',    \n",
    "      \n",
    "    'scaled_january_min_temp',\n",
    "    'scaled_january_avg_temp', 'scaled_january_max_temp',\n",
    "    'scaled_february_min_temp', 'scaled_february_avg_temp',\n",
    "    'scaled_february_max_temp', 'scaled_march_min_temp',\n",
    "    'scaled_march_avg_temp', 'scaled_march_max_temp',\n",
    "    'scaled_april_min_temp', 'scaled_april_avg_temp',\n",
    "    'scaled_april_max_temp', 'scaled_may_min_temp',\n",
    "    'scaled_may_avg_temp', 'scaled_may_max_temp',\n",
    "    'scaled_june_min_temp', 'scaled_june_avg_temp',\n",
    "    'scaled_june_max_temp', 'scaled_july_min_temp',\n",
    "    'scaled_july_avg_temp', 'scaled_july_max_temp',\n",
    "    'scaled_august_min_temp', 'scaled_august_avg_temp',\n",
    "    'scaled_august_max_temp', 'scaled_september_min_temp',\n",
    "    'scaled_september_avg_temp', 'scaled_september_max_temp',\n",
    "    'scaled_october_min_temp', 'scaled_october_avg_temp',\n",
    "    'scaled_october_max_temp', 'scaled_november_min_temp',\n",
    "    'scaled_november_avg_temp', 'scaled_november_max_temp',\n",
    "    'scaled_december_min_temp', 'scaled_december_avg_temp',\n",
    "    'scaled_december_max_temp', 'scaled_cooling_degree_days',\n",
    "    'scaled_avg_temp', \n",
    "    \n",
    "    'scaled_days_with_fog', \n",
    "    'scaled_direction_max_wind_speed',\n",
    "    'scaled_direction_peak_wind_speed', \n",
    "    'scaled_max_wind_speed',\n",
    "    \n",
    "    'scaled_cooling_heating_degree_days',\n",
    "    'scaled_cooling_degree_days', \n",
    "    'scaled_heating_degree_days',\n",
    "      \n",
    "    'scaled_days_below_30F', 'scaled_days_below_20F',\n",
    "    'scaled_days_below_10F', 'scaled_days_below_0F',\n",
    "    'scaled_days_above_80F', 'scaled_days_above_90F',\n",
    "    'scaled_days_above_100F', 'scaled_days_above_110F',    \n",
    "   \n",
    "    'scaled_snowdepth_inches',\n",
    "    'scaled_snowfall_inches', \n",
    "    'scaled_precipitation_inches',\n",
    "      \n",
    "    'scaled_winter_min_temp',\n",
    "    'scaled_winter_max_temp', 'scaled_spring_avg_temp',\n",
    "    'scaled_spring_min_temp', 'scaled_spring_max_temp',\n",
    "    'scaled_summer_avg_temp', 'scaled_summer_min_temp',\n",
    "    'scaled_summer_max_temp', 'scaled_fall_avg_temp',\n",
    "    'scaled_fall_min_temp', 'scaled_fall_max_temp',\n",
    "      \n",
    "  ]\n",
    "\n",
    "  return df[features_to_use].copy() \n",
    "\n",
    "  # I return a copy, because I would get warnings and potentially unpredictable behaviour \n",
    "  # if I then apply further slicing/indexing to an already sliced dataset\n",
    "  \n",
    "  return df"
   ]
  },
  {
   "cell_type": "markdown",
   "id": "f96b0b47-45b1-46d4-9ac6-2b471e586346",
   "metadata": {},
   "source": [
    "# Main\n",
    "\n",
    "## Pre-processing"
   ]
  },
  {
   "cell_type": "code",
   "execution_count": 371,
   "id": "e3b7aee7-a275-4835-9847-5e14f40f88f7",
   "metadata": {},
   "outputs": [
    {
     "data": {
      "text/plain": [
       "(75757, 9705)"
      ]
     },
     "execution_count": 371,
     "metadata": {},
     "output_type": "execute_result"
    }
   ],
   "source": [
    "df_train,df_test = dataRead()\n",
    "len(df_train),len(df_test)"
   ]
  },
  {
   "cell_type": "code",
   "execution_count": 372,
   "id": "f0fbcc36-5b41-40f6-aa75-ad26dc3c18ca",
   "metadata": {},
   "outputs": [
    {
     "data": {
      "text/plain": [
       "(85462, 64)"
      ]
     },
     "execution_count": 372,
     "metadata": {},
     "output_type": "execute_result"
    }
   ],
   "source": [
    "df = pd.concat([df_train,df_test])\n",
    "df.shape"
   ]
  },
  {
   "cell_type": "code",
   "execution_count": 373,
   "id": "273ae42c-dfb0-449d-811e-9c6baf865cdf",
   "metadata": {
    "tags": []
   },
   "outputs": [
    {
     "name": "stdout",
     "output_type": "stream",
     "text": [
      "\n",
      "Preprocessing the data...\n",
      "\n",
      "\n",
      "Year built imputation\n",
      "Before imputation, number of NaNs: 1929\n",
      "['state_id', 'floor_area', 'building_class', 'facility_type']\n",
      "After imputation step 1, number of NaNs: 1771\n",
      "['floor_area', 'building_class', 'facility_type']\n",
      "After imputation step 2, number of NaNs: 1739\n",
      "['building_class', 'facility_type']\n",
      "After imputation step 3, number of NaNs: 0\n",
      "\n",
      "Energy star rating imputation\n",
      "Before imputation, number of NaNs: 28963\n",
      "['state_id', 'floor_area', 'building_class', 'facility_type', 'year_built_cat']\n",
      "After imputation step 1, number of NaNs: 14792\n",
      "['floor_area', 'building_class', 'facility_type', 'year_built_cat']\n",
      "After imputation step 2, number of NaNs: 14679\n",
      "['building_class', 'facility_type', 'year_built_cat']\n",
      "After imputation step 3, number of NaNs: 3263\n",
      "['facility_type', 'year_built_cat']\n",
      "After imputation step 4, number of NaNs: 3263\n",
      "['year_built_cat']\n",
      "After imputation step 5, number of NaNs: 0\n",
      "\n",
      "Days_with_fog imputation\n",
      "Before imputation, number of NaNs: 54913\n",
      "['year_factor', 'elevation_cat', 'avg_temp_cat']\n",
      "After imputation step 1, number of NaNs: 10977\n",
      "['elevation_cat', 'avg_temp_cat']\n",
      "After imputation step 2, number of NaNs: 4364\n",
      "['avg_temp_cat']\n",
      "After imputation step 3, number of NaNs: 0\n",
      "\n",
      "Preprocessing of data ended...\n",
      "\n"
     ]
    },
    {
     "data": {
      "text/plain": [
       "(84188, 79)"
      ]
     },
     "execution_count": 373,
     "metadata": {},
     "output_type": "execute_result"
    }
   ],
   "source": [
    "df = dataPreprocess(df_train,df_test)\n",
    "df_preprocessed = df.copy() # keep it away for test set\n",
    "df.shape"
   ]
  },
  {
   "cell_type": "code",
   "execution_count": 374,
   "id": "386c8242-966e-4aad-9eec-1d976be3fcab",
   "metadata": {},
   "outputs": [
    {
     "data": {
      "text/plain": [
       "Index(['year_factor', 'building_id', 'has_previous_history',\n",
       "       'building_id_sameyear_factor_count', 'state_factor', 'state_id',\n",
       "       'building_class', 'is_residential', 'facility_type',\n",
       "       'facility_type_super', 'floor_area', 'year_built_cat', 'year_built',\n",
       "       'energy_star_rating', 'elevation', 'elevation_cat', 'january_min_temp',\n",
       "       'january_avg_temp', 'january_max_temp', 'february_min_temp',\n",
       "       'february_avg_temp', 'february_max_temp', 'march_min_temp',\n",
       "       'march_avg_temp', 'march_max_temp', 'april_min_temp', 'april_avg_temp',\n",
       "       'april_max_temp', 'may_min_temp', 'may_avg_temp', 'may_max_temp',\n",
       "       'june_min_temp', 'june_avg_temp', 'june_max_temp', 'july_min_temp',\n",
       "       'july_avg_temp', 'july_max_temp', 'august_min_temp', 'august_avg_temp',\n",
       "       'august_max_temp', 'september_min_temp', 'september_avg_temp',\n",
       "       'september_max_temp', 'october_min_temp', 'october_avg_temp',\n",
       "       'october_max_temp', 'november_min_temp', 'november_avg_temp',\n",
       "       'november_max_temp', 'december_min_temp', 'december_avg_temp',\n",
       "       'december_max_temp', 'cooling_degree_days', 'heating_degree_days',\n",
       "       'precipitation_inches', 'snowfall_inches', 'snowdepth_inches',\n",
       "       'avg_temp', 'avg_temp_cat', 'days_below_30F', 'days_below_20F',\n",
       "       'days_below_10F', 'days_below_0F', 'days_above_80F', 'days_above_90F',\n",
       "       'days_above_100F', 'days_above_110F', 'direction_max_wind_speed',\n",
       "       'direction_peak_wind_speed', 'max_wind_speed', 'days_with_fog',\n",
       "       'site_eui', 'id', 'year_imputed', 'energy_star_rating_imputed',\n",
       "       'days_with_fog_imputed', 'building_count', 'year_factor_diff_1',\n",
       "       'year_factor_diff_2'],\n",
       "      dtype='object')"
      ]
     },
     "execution_count": 374,
     "metadata": {},
     "output_type": "execute_result"
    }
   ],
   "source": [
    "df.columns"
   ]
  },
  {
   "cell_type": "markdown",
   "id": "7b8c2dc3-6d20-42a6-9d05-2f6bcbcc4f98",
   "metadata": {},
   "source": [
    "## Events with History"
   ]
  },
  {
   "cell_type": "markdown",
   "id": "5484ebd3-985d-4a4c-8016-c97f25c80bb7",
   "metadata": {},
   "source": [
    "### Engineer, scale, select"
   ]
  },
  {
   "cell_type": "code",
   "execution_count": 355,
   "id": "57c13cfc-22b0-439b-ba29-71087209b629",
   "metadata": {},
   "outputs": [
    {
     "name": "stdout",
     "output_type": "stream",
     "text": [
      "\n",
      "Feature Engineering for events with previous history...\n",
      "\n",
      "\n",
      "Lag 1\n",
      "\n",
      "Lag 2\n",
      "\n",
      "Feature Engineering ended...\n",
      "\n"
     ]
    },
    {
     "data": {
      "text/plain": [
       "((84188, 118),\n",
       " Index(['year_factor', 'building_id', 'has_previous_history',\n",
       "        'building_id_sameyear_factor_count', 'state_factor', 'state_id',\n",
       "        'building_class', 'is_residential', 'facility_type',\n",
       "        'facility_type_super',\n",
       "        ...\n",
       "        'february_avg_temp_lag_2', 'february_avg_temp_diff_2', 'avg_temp_lag_2',\n",
       "        'avg_temp_diff_2', 'cooling_degree_days_lag_2',\n",
       "        'cooling_degree_days_diff_2', 'heating_degree_days_lag_2',\n",
       "        'heating_degree_days_diff_2', 'cooling_heating_degree_days_lag_2',\n",
       "        'cooling_heating_degree_days_diff_2'],\n",
       "       dtype='object', length=118))"
      ]
     },
     "execution_count": 355,
     "metadata": {},
     "output_type": "execute_result"
    }
   ],
   "source": [
    "df = featureEngineerHistory(df)\n",
    "df.shape,df.columns"
   ]
  },
  {
   "cell_type": "code",
   "execution_count": 356,
   "id": "6490efbf-ca3e-4b36-96ea-3ce1c61abe81",
   "metadata": {},
   "outputs": [
    {
     "data": {
      "text/plain": [
       "((84188, 127),\n",
       " Index(['year_factor', 'building_id', 'has_previous_history',\n",
       "        'building_id_sameyear_factor_count', 'state_factor', 'state_id',\n",
       "        'building_class', 'is_residential', 'facility_type',\n",
       "        'facility_type_super',\n",
       "        ...\n",
       "        'cooling_heating_degree_days_diff_2', 'scaled_site_eui_lag_1',\n",
       "        'scaled_site_eui_lag_2', 'scaled_energy_star_rating',\n",
       "        'scaled_energy_star_rating_lag_2', 'scaled_energy_star_rating_lag_1',\n",
       "        'scaled_january_min_temp', 'scaled_january_avg_temp',\n",
       "        'scaled_january_min_temp_lag_1', 'scaled_cooling_heating_degree_days'],\n",
       "       dtype='object', length=127))"
      ]
     },
     "execution_count": 356,
     "metadata": {},
     "output_type": "execute_result"
    }
   ],
   "source": [
    "df = featureScaleHistory(df)\n",
    "df.shape,df.columns"
   ]
  },
  {
   "cell_type": "code",
   "execution_count": 357,
   "id": "2e640deb-8469-49c7-9e77-aea9e468b1b9",
   "metadata": {},
   "outputs": [
    {
     "data": {
      "text/plain": [
       "((84188, 12),\n",
       " Index(['site_eui', 'year_factor', 'has_previous_history',\n",
       "        'scaled_site_eui_lag_1', 'scaled_site_eui_lag_2',\n",
       "        'scaled_energy_star_rating', 'scaled_energy_star_rating_lag_1',\n",
       "        'scaled_energy_star_rating_lag_2', 'scaled_january_min_temp',\n",
       "        'scaled_january_avg_temp', 'scaled_january_min_temp_lag_1',\n",
       "        'scaled_cooling_heating_degree_days'],\n",
       "       dtype='object'))"
      ]
     },
     "execution_count": 357,
     "metadata": {},
     "output_type": "execute_result"
    }
   ],
   "source": [
    "df = featureSelectHistory(df)\n",
    "df.shape,df.columns"
   ]
  },
  {
   "cell_type": "markdown",
   "id": "164552c1-16a0-464a-a89b-24732b8089d6",
   "metadata": {},
   "source": [
    "### Linear model\n",
    "We consider for now only rows **with previous history**, with a **small number of features**. In this simplified case, we have strong linear correlation with the site_eui of the previous year. We try to build a linear model"
   ]
  },
  {
   "cell_type": "markdown",
   "id": "a4e99f4f-5514-4e6d-afe6-ee1b9934ea75",
   "metadata": {},
   "source": [
    "#### Preliminary"
   ]
  },
  {
   "cell_type": "code",
   "execution_count": 358,
   "id": "82e9fd97-eedb-4572-9944-4b169843a68d",
   "metadata": {
    "tags": []
   },
   "outputs": [
    {
     "data": {
      "text/plain": [
       "((84188, 12), (57603, 11))"
      ]
     },
     "execution_count": 358,
     "metadata": {},
     "output_type": "execute_result"
    }
   ],
   "source": [
    "df_h = df.loc[df['has_previous_history']==1].copy()\n",
    "df_h = df_h.drop(columns=['has_previous_history'])\n",
    "df.shape,df_h.shape"
   ]
  },
  {
   "cell_type": "code",
   "execution_count": 359,
   "id": "09990024-9831-4e55-84c5-554fd38cc3c8",
   "metadata": {
    "tags": []
   },
   "outputs": [
    {
     "data": {
      "text/plain": [
       "((48555, 11), (9048, 11))"
      ]
     },
     "execution_count": 359,
     "metadata": {},
     "output_type": "execute_result"
    }
   ],
   "source": [
    "df_train,df_test = splitTestTrain(df_h)\n",
    "df_train.shape,df_test.shape"
   ]
  },
  {
   "cell_type": "code",
   "execution_count": 360,
   "id": "84bcaa70-3a48-4ae7-ae88-1c31dfd3fd04",
   "metadata": {
    "tags": []
   },
   "outputs": [
    {
     "data": {
      "text/plain": [
       "site_eui                              1.000000\n",
       "scaled_site_eui_lag_1                 0.912507\n",
       "scaled_energy_star_rating             0.426835\n",
       "scaled_energy_star_rating_lag_1       0.392748\n",
       "scaled_site_eui_lag_2                 0.190093\n",
       "scaled_january_min_temp               0.176666\n",
       "scaled_cooling_heating_degree_days    0.166191\n",
       "scaled_january_avg_temp               0.162738\n",
       "scaled_january_min_temp_lag_1         0.159416\n",
       "year_factor                           0.053875\n",
       "scaled_energy_star_rating_lag_2       0.019217\n",
       "Name: site_eui, dtype: float64"
      ]
     },
     "execution_count": 360,
     "metadata": {},
     "output_type": "execute_result"
    }
   ],
   "source": [
    "abs(df_train.corr())['site_eui'].sort_values(ascending=False)"
   ]
  },
  {
   "cell_type": "code",
   "execution_count": 361,
   "id": "6666f817-9986-40ef-9b13-fd3b4fb8f572",
   "metadata": {
    "tags": []
   },
   "outputs": [
    {
     "data": {
      "text/plain": [
       "array([[<matplotlib.axes._subplots.AxesSubplot object at 0x7febb1e85ee0>,\n",
       "        <matplotlib.axes._subplots.AxesSubplot object at 0x7febebd91460>,\n",
       "        <matplotlib.axes._subplots.AxesSubplot object at 0x7febebd64520>],\n",
       "       [<matplotlib.axes._subplots.AxesSubplot object at 0x7febed2267f0>,\n",
       "        <matplotlib.axes._subplots.AxesSubplot object at 0x7febfd967b80>,\n",
       "        <matplotlib.axes._subplots.AxesSubplot object at 0x7febb1ea9160>],\n",
       "       [<matplotlib.axes._subplots.AxesSubplot object at 0x7febb1ea9be0>,\n",
       "        <matplotlib.axes._subplots.AxesSubplot object at 0x7fec1dcb5ee0>,\n",
       "        <matplotlib.axes._subplots.AxesSubplot object at 0x7febebd86e20>],\n",
       "       [<matplotlib.axes._subplots.AxesSubplot object at 0x7febefeb0ac0>,\n",
       "        <matplotlib.axes._subplots.AxesSubplot object at 0x7fec1a6566d0>,\n",
       "        <matplotlib.axes._subplots.AxesSubplot object at 0x7fec1dd552b0>]],\n",
       "      dtype=object)"
      ]
     },
     "execution_count": 361,
     "metadata": {},
     "output_type": "execute_result"
    },
    {
     "data": {
      "image/png": "[encoded data removed]",
      "text/plain": [
       "<Figure size 1080x1080 with 12 Axes>"
      ]
     },
     "metadata": {
      "needs_background": "light"
     },
     "output_type": "display_data"
    }
   ],
   "source": [
    "df_train.hist(figsize=(15,15), bins=50)"
   ]
  },
  {
   "cell_type": "code",
   "execution_count": 362,
   "id": "0cdd0e9d-263b-4fda-82bf-6d98d0b1cbc0",
   "metadata": {
    "tags": []
   },
   "outputs": [
    {
     "data": {
      "text/plain": [
       "Index(['site_eui', 'year_factor', 'scaled_site_eui_lag_1',\n",
       "       'scaled_site_eui_lag_2', 'scaled_energy_star_rating',\n",
       "       'scaled_energy_star_rating_lag_1', 'scaled_energy_star_rating_lag_2',\n",
       "       'scaled_january_min_temp', 'scaled_january_avg_temp',\n",
       "       'scaled_january_min_temp_lag_1', 'scaled_cooling_heating_degree_days'],\n",
       "      dtype='object')"
      ]
     },
     "execution_count": 362,
     "metadata": {},
     "output_type": "execute_result"
    }
   ],
   "source": [
    "#sns.jointplot(x='scaled_site_eui_lag_1', y='site_eui', data=df_train, kind='reg')\n",
    "df_train.columns"
   ]
  },
  {
   "cell_type": "code",
   "execution_count": 363,
   "id": "41298c68-7116-417b-b274-4ba7f22ad7e4",
   "metadata": {},
   "outputs": [
    {
     "name": "stdout",
     "output_type": "stream",
     "text": [
      "(48555, 9) (9048, 9) (48555, 1)\n"
     ]
    }
   ],
   "source": [
    "X_train = df_train.iloc[:,2:].values\n",
    "y_train = df_train.iloc[:,0:1].values\n",
    "\n",
    "X_test = df_test.iloc[:,2:].values\n",
    "#y_test  to be predicted\n",
    "\n",
    "print(X_train.shape,X_test.shape,y_train.shape)"
   ]
  },
  {
   "cell_type": "code",
   "execution_count": 364,
   "id": "b28cfd0a-10db-4214-a360-573bb0598285",
   "metadata": {},
   "outputs": [],
   "source": [
    "#plt.scatter(X_train, y_train)"
   ]
  },
  {
   "cell_type": "code",
   "execution_count": 365,
   "id": "dc589938-2bcc-46ad-ad34-9ce3b48927f3",
   "metadata": {
    "tags": []
   },
   "outputs": [
    {
     "data": {
      "text/plain": [
       "((33988, 9), (14567, 9), (33988, 1), (14567, 1))"
      ]
     },
     "execution_count": 365,
     "metadata": {},
     "output_type": "execute_result"
    }
   ],
   "source": [
    "X_t, X_v, y_t, y_v = train_test_split(X_train, y_train, test_size=0.3, random_state=10, shuffle=True)\n",
    "X_t.shape,X_v.shape,y_t.shape,y_v.shape"
   ]
  },
  {
   "cell_type": "code",
   "execution_count": 35,
   "id": "20320cfa-6322-4985-9abb-b68d50b5a221",
   "metadata": {
    "tags": []
   },
   "outputs": [],
   "source": [
    "#sgd_reg = SGDRegressor(max_iter=5000, tol=1e-3, penalty='elasticnet', learning_rate='adaptive', eta0=0.01, random_state=42,\n",
    "#                       n_iter_no_change=10)\n",
    "#\n",
    "#sgd_scores = cross_val_score(sgd_reg,X_train,y_train.ravel(),cv=5,scoring='neg_mean_squared_error')\n",
    "#\n",
    "#np.sqrt(-sgd_scores).mean(), np.sqrt(-sgd_scores).std()"
   ]
  },
  {
   "cell_type": "code",
   "execution_count": null,
   "id": "0b0f1493-caad-4604-9f14-374fdeaace30",
   "metadata": {},
   "outputs": [],
   "source": []
  },
  {
   "cell_type": "markdown",
   "id": "c62ae72e-0250-4a44-bb79-66ca1f10b853",
   "metadata": {},
   "source": [
    "#### Epoch training, best model"
   ]
  },
  {
   "cell_type": "code",
   "execution_count": 1,
   "id": "0dfd8824-4d6e-4a4e-b1cd-4ddbde4e74ee",
   "metadata": {
    "collapsed": true,
    "jupyter": {
     "outputs_hidden": true
    },
    "tags": []
   },
   "outputs": [
    {
     "ename": "NameError",
     "evalue": "name 'SGDRegressor' is not defined",
     "output_type": "error",
     "traceback": [
      "\u001b[0;31m---------------------------------------------------------------------------\u001b[0m",
      "\u001b[0;31mNameError\u001b[0m                                 Traceback (most recent call last)",
      "\u001b[0;32m/var/folders/n_/3tsts8n517l9sdcmgskvkyqc0000gn/T/ipykernel_33347/3968159817.py\u001b[0m in \u001b[0;36m<cell line: 1>\u001b[0;34m()\u001b[0m\n\u001b[0;32m----> 1\u001b[0;31m sgd_reg = SGDRegressor(max_iter=1, tol=-np.infty, warm_start=True,\n\u001b[0m\u001b[1;32m      2\u001b[0m                        penalty='elasticnet', learning_rate=\"adaptive\", eta0=0.01, random_state=42, n_iter_no_change=10)\n\u001b[1;32m      3\u001b[0m \u001b[0;34m\u001b[0m\u001b[0m\n\u001b[1;32m      4\u001b[0m \u001b[0mminimum_val_error\u001b[0m \u001b[0;34m=\u001b[0m \u001b[0mfloat\u001b[0m\u001b[0;34m(\u001b[0m\u001b[0;34m\"inf\"\u001b[0m\u001b[0;34m)\u001b[0m\u001b[0;34m\u001b[0m\u001b[0;34m\u001b[0m\u001b[0m\n\u001b[1;32m      5\u001b[0m \u001b[0mbest_epoch\u001b[0m \u001b[0;34m=\u001b[0m \u001b[0;32mNone\u001b[0m\u001b[0;34m\u001b[0m\u001b[0;34m\u001b[0m\u001b[0m\n",
      "\u001b[0;31mNameError\u001b[0m: name 'SGDRegressor' is not defined"
     ]
    }
   ],
   "source": [
    "sgd_reg = SGDRegressor(max_iter=1, tol=-np.infty, warm_start=True,\n",
    "                       penalty='elasticnet', learning_rate=\"adaptive\", eta0=0.01, random_state=42, n_iter_no_change=10)\n",
    "\n",
    "minimum_val_error = float(\"inf\")\n",
    "best_epoch = None\n",
    "best_model = None\n",
    "for epoch in range(1000):\n",
    "  sgd_reg.fit(X_t, y_t.ravel())  # continues where it left off\n",
    "  y_v_predict = sgd_reg.predict(X_v)\n",
    "  val_error = mean_squared_error(y_v.ravel(), y_v_predict)\n",
    "  #print(val_error)\n",
    "  if val_error < minimum_val_error:\n",
    "    minimum_val_error = val_error\n",
    "    best_epoch = epoch\n",
    "    best_model = deepcopy(sgd_reg)\n",
    "\n",
    "best_model.coef_"
   ]
  },
  {
   "cell_type": "code",
   "execution_count": 367,
   "id": "bb3c4340-52a4-4330-9a72-26f883de26df",
   "metadata": {
    "tags": []
   },
   "outputs": [
    {
     "data": {
      "text/plain": [
       "SGDRegressor(learning_rate='adaptive', max_iter=1, n_iter_no_change=10,\n",
       "             penalty='elasticnet', random_state=42, tol=-inf, warm_start=True)"
      ]
     },
     "execution_count": 367,
     "metadata": {},
     "output_type": "execute_result"
    }
   ],
   "source": [
    "best_model"
   ]
  },
  {
   "cell_type": "markdown",
   "id": "8c99f727-4e57-422e-9a04-b7ff7ad95d12",
   "metadata": {},
   "source": [
    "#### Epoch training, plot"
   ]
  },
  {
   "cell_type": "code",
   "execution_count": 368,
   "id": "fcc1edd3-1ddf-4de5-8d22-4ab78b50c0b5",
   "metadata": {
    "tags": []
   },
   "outputs": [
    {
     "name": "stdout",
     "output_type": "stream",
     "text": [
      "Best RMSE train =22.775803\n",
      "Best RMSE val   =22.798442\n",
      "Pct change = 0.10%\n"
     ]
    },
    {
     "data": {
      "image/png": "[encoded data removed]",
      "text/plain": [
       "<Figure size 432x288 with 1 Axes>"
      ]
     },
     "metadata": {
      "needs_background": "light"
     },
     "output_type": "display_data"
    }
   ],
   "source": [
    "sgd_reg = SGDRegressor(max_iter=1, tol=-np.infty, warm_start=True,\n",
    "                       penalty='elasticnet', learning_rate=\"adaptive\", eta0=0.1, random_state=42, \n",
    "                       alpha=0.00005,l1_ratio=0.01,\n",
    "                     #  alpha=0.00005,l1_ratio=0.001\n",
    "                      )\n",
    "\n",
    "n_epochs = 15\n",
    "train_errors, val_errors = [], []\n",
    "for epoch in range(n_epochs):\n",
    "  sgd_reg.fit(X_t, y_t.ravel())\n",
    "  y_t_predict = sgd_reg.predict(X_t)\n",
    "  y_v_predict = sgd_reg.predict(X_v)\n",
    "  train_errors.append(mean_squared_error(y_t.ravel(), y_t_predict))\n",
    "  val_errors.append(mean_squared_error(y_v.ravel(), y_v_predict))\n",
    "\n",
    "best_epoch = np.argmin(val_errors)\n",
    "best_val_rmse = np.sqrt(val_errors[best_epoch])\n",
    "best_train_rmse = np.sqrt(train_errors[best_epoch])\n",
    "\n",
    "##plt.annotate('Best model',\n",
    "#             xy=(best_epoch, best_val_rmse),\n",
    "#             xytext=(best_epoch, best_val_rmse + 1),\n",
    "#             ha=\"center\",\n",
    "#             arrowprops=dict(facecolor='black', shrink=0.05),\n",
    "#             fontsize=16,\n",
    "#            )\n",
    "print('Best RMSE train ={:2f}'.format(best_train_rmse))\n",
    "print('Best RMSE val   ={:2f}'.format(best_val_rmse))\n",
    "print('Pct change = {:.2f}%'.format((best_val_rmse/best_train_rmse-1)*100))\n",
    "\n",
    "\n",
    "#best_val_rmse -= 0.03  # just to make the graph look better\n",
    "plt.plot([0, n_epochs], [best_val_rmse, best_val_rmse], \"k:\", linewidth=2)\n",
    "plt.plot(np.sqrt(val_errors), \"b-\", linewidth=3, label=\"Validation set\")\n",
    "plt.plot(np.sqrt(train_errors), \"r--\", linewidth=2, label=\"Training set\")\n",
    "plt.legend(loc=\"upper right\", fontsize=14)\n",
    "plt.xlabel(\"Epoch\", fontsize=14)\n",
    "plt.ylabel(\"RMSE\", fontsize=14)\n",
    "plt.show()"
   ]
  },
  {
   "cell_type": "markdown",
   "id": "d8e2bdd8-3629-4089-a706-d8cd3cf164dc",
   "metadata": {},
   "source": [
    "#### Predictions on the test set"
   ]
  },
  {
   "cell_type": "code",
   "execution_count": 369,
   "id": "bff901f9-7725-40e6-8607-a0c75b90a847",
   "metadata": {},
   "outputs": [
    {
     "data": {
      "text/plain": [
       "(9048,)"
      ]
     },
     "execution_count": 369,
     "metadata": {},
     "output_type": "execute_result"
    }
   ],
   "source": [
    "y_predict_test_history = best_model.predict(X_test)\n",
    "y_predict_test_history.shape"
   ]
  },
  {
   "cell_type": "code",
   "execution_count": 370,
   "id": "e743e334-15ab-40ec-9122-a1802a75a029",
   "metadata": {},
   "outputs": [
    {
     "data": {
      "text/plain": [
       "array([70.39868944, 69.23180818, 54.34836996, ..., 59.30599211,\n",
       "       54.5262722 , 16.48686183])"
      ]
     },
     "execution_count": 370,
     "metadata": {},
     "output_type": "execute_result"
    }
   ],
   "source": [
    "y_predict_test_history"
   ]
  },
  {
   "cell_type": "markdown",
   "id": "b4763f75-ebfb-4c40-bc6c-3132ae254731",
   "metadata": {},
   "source": [
    "## Events without history \n",
    "\n",
    "**NOTE** please re-run the processing steps"
   ]
  },
  {
   "cell_type": "markdown",
   "id": "3b8daf23-ea0e-4f93-8bd7-5c1a6a0b0116",
   "metadata": {},
   "source": [
    "### Engineer, scale, select"
   ]
  },
  {
   "cell_type": "code",
   "execution_count": 375,
   "id": "88b321ee-ed5f-4c00-8b94-496412fe9be0",
   "metadata": {},
   "outputs": [],
   "source": [
    "df = featureEncode(df)\n",
    "#df.columns.to_list()"
   ]
  },
  {
   "cell_type": "code",
   "execution_count": 376,
   "id": "e765be97-34c3-4590-b447-238109dc9bd4",
   "metadata": {},
   "outputs": [
    {
     "name": "stdout",
     "output_type": "stream",
     "text": [
      "\n",
      "Feature Engineering for events without previous history...\n",
      "\n",
      "\n",
      "Feature Engineering ended...\n",
      "\n"
     ]
    }
   ],
   "source": [
    "df = featureEngineer(df)"
   ]
  },
  {
   "cell_type": "code",
   "execution_count": 377,
   "id": "8bb665f1-9898-4584-baa7-e0a9a46913ab",
   "metadata": {},
   "outputs": [],
   "source": [
    "df = featureScale(df)"
   ]
  },
  {
   "cell_type": "code",
   "execution_count": 378,
   "id": "7b540934-febc-4e96-812c-6aa5a538edca",
   "metadata": {},
   "outputs": [],
   "source": [
    "#df.columns.to_numpy()"
   ]
  },
  {
   "cell_type": "code",
   "execution_count": 379,
   "id": "54c700f8-6555-4457-a8a3-91516d162601",
   "metadata": {
    "tags": []
   },
   "outputs": [
    {
     "data": {
      "text/plain": [
       "((84188, 165),\n",
       " Index(['site_eui', 'year_factor', 'has_previous_history', 'is_residential',\n",
       "        'year_built_cat', 'scaled_year_built', 'scaled_energy_star_rating',\n",
       "        'elevation_cat', 'scaled_elevation', 'scaled_floor_area',\n",
       "        ...\n",
       "        'scaled_winter_max_temp', 'scaled_spring_avg_temp',\n",
       "        'scaled_spring_min_temp', 'scaled_spring_max_temp',\n",
       "        'scaled_summer_avg_temp', 'scaled_summer_min_temp',\n",
       "        'scaled_summer_max_temp', 'scaled_fall_avg_temp',\n",
       "        'scaled_fall_min_temp', 'scaled_fall_max_temp'],\n",
       "       dtype='object', length=165))"
      ]
     },
     "execution_count": 379,
     "metadata": {},
     "output_type": "execute_result"
    }
   ],
   "source": [
    "df = featureSelect(df)\n",
    "df.shape,df.columns"
   ]
  },
  {
   "cell_type": "markdown",
   "id": "35f69930-2192-4db3-b5dc-dc5683ef973f",
   "metadata": {},
   "source": [
    "### BDT model (XGboost)\n",
    "This model is thought for application on those events in the test set that do not have a previous history. \n",
    "\n",
    "We start by training it on the entire dataset, but we will also try to train it on events which do not have a previous history; this makes sense if there is a reason why the events do not have previous history information."
   ]
  },
  {
   "cell_type": "markdown",
   "id": "24b8e09d-1e2b-4249-abd6-f4d12cace6c0",
   "metadata": {},
   "source": [
    "#### Preliminary"
   ]
  },
  {
   "cell_type": "code",
   "execution_count": 380,
   "id": "46ffc798-2c27-42f4-89a1-9ce0748aa73f",
   "metadata": {},
   "outputs": [
    {
     "data": {
      "text/plain": [
       "((74483, 163), (9705, 165))"
      ]
     },
     "execution_count": 380,
     "metadata": {},
     "output_type": "execute_result"
    }
   ],
   "source": [
    "train_on_full_data = True\n",
    "\n",
    "if train_on_full_data:\n",
    "  df_train,df_test = splitTestTrain(df)\n",
    "  df_train = df_train.drop(columns=['has_previous_history','year_factor'])\n",
    "  #df_train = df_train.drop(columns='year_factor')   \n",
    "  #df_test = df_test.drop(columns='year_factor') # drop it because it's different bw training set and test set\n",
    "\n",
    "else:\n",
    "  # only train on events which do not have previous history\n",
    "  df_nh = df.loc[df['has_previous_history']==0].copy()\n",
    "  df_nh = df_nh.drop(columns=['has_previous_history'])\n",
    "  df_train,df_test = splitTestTrain(df)\n",
    "\n",
    "\n",
    "df_train.shape,df_test.shape"
   ]
  },
  {
   "cell_type": "code",
   "execution_count": 381,
   "id": "70d5fd27-165b-4103-8327-79be37127318",
   "metadata": {},
   "outputs": [
    {
     "data": {
      "text/plain": [
       "<seaborn.axisgrid.JointGrid at 0x7febed1fe5b0>"
      ]
     },
     "execution_count": 381,
     "metadata": {},
     "output_type": "execute_result"
    },
    {
     "data": {
      "image/png": "[encoded data removed]",
      "text/plain": [
       "<Figure size 432x432 with 3 Axes>"
      ]
     },
     "metadata": {
      "needs_background": "light"
     },
     "output_type": "display_data"
    }
   ],
   "source": [
    "sns.jointplot(x='scaled_energy_star_rating', y='site_eui', data=df_train, kind='reg')"
   ]
  },
  {
   "cell_type": "code",
   "execution_count": 398,
   "id": "9e8a5584-f22e-4d72-a5d6-735367efb7f1",
   "metadata": {},
   "outputs": [
    {
     "data": {
      "text/plain": [
       "Index(['site_eui', 'is_residential', 'year_built_cat', 'scaled_year_built',\n",
       "       'scaled_energy_star_rating', 'elevation_cat', 'scaled_elevation',\n",
       "       'scaled_floor_area', 'enc_state_id_0', 'enc_state_id_1',\n",
       "       ...\n",
       "       'scaled_winter_max_temp', 'scaled_spring_avg_temp',\n",
       "       'scaled_spring_min_temp', 'scaled_spring_max_temp',\n",
       "       'scaled_summer_avg_temp', 'scaled_summer_min_temp',\n",
       "       'scaled_summer_max_temp', 'scaled_fall_avg_temp',\n",
       "       'scaled_fall_min_temp', 'scaled_fall_max_temp'],\n",
       "      dtype='object', length=163)"
      ]
     },
     "execution_count": 398,
     "metadata": {},
     "output_type": "execute_result"
    }
   ],
   "source": [
    "all_features_training = df_train.columns.to_list()[1:]\n",
    "df_train.columns"
   ]
  },
  {
   "cell_type": "code",
   "execution_count": 383,
   "id": "bac519bd-3822-4e11-b79f-cd7fb883cfb6",
   "metadata": {},
   "outputs": [
    {
     "name": "stdout",
     "output_type": "stream",
     "text": [
      "(74483, 162) (74483, 1)\n"
     ]
    }
   ],
   "source": [
    "X_train = df_train.iloc[:,1:].values\n",
    "y_train = df_train.iloc[:,0:1].values\n",
    "\n",
    "print(X_train.shape,y_train.shape)"
   ]
  },
  {
   "cell_type": "markdown",
   "id": "001654ac-95b5-4c6c-85d9-f6f3b9359ade",
   "metadata": {},
   "source": [
    "#### Training"
   ]
  },
  {
   "cell_type": "code",
   "execution_count": 232,
   "id": "9ec57d73-f7cb-48bc-8781-fbf1305724ef",
   "metadata": {},
   "outputs": [
    {
     "name": "stdout",
     "output_type": "stream",
     "text": [
      "[48.20344063 43.72055428 44.56807151 39.45014255 38.43665044]\n",
      "RMSE: 42.876 +/- 3.561\n"
     ]
    }
   ],
   "source": [
    "xgb_reg = xgboost.XGBRegressor(n_estimators=300, tree_method=\"hist\", nthread=-1)\n",
    "xgb_scores = cross_val_score(xgb_reg,X_train,y_train.ravel(),cv=5,scoring='neg_mean_squared_error')\n",
    "\n",
    "print(np.sqrt(-xgb_scores))\n",
    "print(\"RMSE: {:.3f} +/- {:.3f}\".format(np.sqrt(-xgb_scores).mean(), np.sqrt(-xgb_scores).std()))"
   ]
  },
  {
   "cell_type": "markdown",
   "id": "1d4e6f60-e77d-444f-8c74-155ebd568bdc",
   "metadata": {},
   "source": [
    "#### Hyperparameter tuning"
   ]
  },
  {
   "cell_type": "code",
   "execution_count": 243,
   "id": "b865ac72-44b0-46d1-a87e-d373b20a6b43",
   "metadata": {},
   "outputs": [
    {
     "data": {
      "text/plain": [
       "GridSearchCV(cv=5,\n",
       "             estimator=XGBRegressor(base_score=None, booster=None,\n",
       "                                    colsample_bylevel=None,\n",
       "                                    colsample_bynode=None,\n",
       "                                    colsample_bytree=None, gamma=None,\n",
       "                                    gpu_id=None, importance_type='gain',\n",
       "                                    interaction_constraints=None,\n",
       "                                    learning_rate=None, max_delta_step=None,\n",
       "                                    max_depth=None, min_child_weight=None,\n",
       "                                    missing=nan, monotone_constraints=None,\n",
       "                                    n_estimators=100, n_jobs=...\n",
       "                                    num_parallel_tree=None, random_state=None,\n",
       "                                    reg_alpha=None, reg_lambda=None,\n",
       "                                    scale_pos_weight=None, subsample=None,\n",
       "                                    tree_method='hist',\n",
       "                                    validate_parameters=None, verbosity=None),\n",
       "             param_grid=[{'gamma': [0.0], 'learning_rate': [0.05, 0.1],\n",
       "                          'n_estimators': [100, 200, 500], 'reg_alpha': [0.0],\n",
       "                          'reg_lambda': [1.0], 'subsample': [0.1, 0.5, 1.0]}],\n",
       "             return_train_score=True, scoring='neg_mean_squared_error')"
      ]
     },
     "execution_count": 243,
     "metadata": {},
     "output_type": "execute_result"
    }
   ],
   "source": [
    "param_grid = [\n",
    "    {'n_estimators': [100,200,500], \n",
    "     #'max_depth':    [2], \n",
    "     'learning_rate':[0.05, 0.1],\n",
    "     'subsample':    [0.1, 0.5, 1.0], # subsample ratio of the training sample\n",
    "     'gamma':        [0.], # minimum loss reduction required to grow a tree , not independent on n_estimators\n",
    "     'reg_alpha':    [0.],\n",
    "     'reg_lambda':   [1.],\n",
    "    },\n",
    "  ]\n",
    "\n",
    "xgb_reg = xgboost.XGBRegressor(tree_method=\"hist\")\n",
    "\n",
    "grid_search = GridSearchCV(xgb_reg, param_grid, cv=5,\n",
    "                           scoring='neg_mean_squared_error',\n",
    "                           return_train_score=True)\n",
    "grid_search.fit(X_train, y_train.ravel())"
   ]
  },
  {
   "cell_type": "code",
   "execution_count": 259,
   "id": "6e36fa94-b271-416c-bbf7-42b440441555",
   "metadata": {},
   "outputs": [
    {
     "data": {
      "text/html": [
       "<div>\n",
       "<style scoped>\n",
       "    .dataframe tbody tr th:only-of-type {\n",
       "        vertical-align: middle;\n",
       "    }\n",
       "\n",
       "    .dataframe tbody tr th {\n",
       "        vertical-align: top;\n",
       "    }\n",
       "\n",
       "    .dataframe thead th {\n",
       "        text-align: right;\n",
       "    }\n",
       "</style>\n",
       "<table border=\"1\" class=\"dataframe\">\n",
       "  <thead>\n",
       "    <tr style=\"text-align: right;\">\n",
       "      <th></th>\n",
       "      <th>mean_train_score_rmse</th>\n",
       "      <th>mean_test_score_rmse</th>\n",
       "      <th>diff_train_test_perc</th>\n",
       "      <th>params</th>\n",
       "    </tr>\n",
       "  </thead>\n",
       "  <tbody>\n",
       "    <tr>\n",
       "      <th>17</th>\n",
       "      <td>28.795420</td>\n",
       "      <td>43.221913</td>\n",
       "      <td>-33.377730</td>\n",
       "      <td>{'gamma': 0.0, 'learning_rate': 0.1, 'n_estimators': 500, 'reg_alpha': 0.0, 'reg_lambda': 1.0, 'subsample': 1.0}</td>\n",
       "    </tr>\n",
       "    <tr>\n",
       "      <th>16</th>\n",
       "      <td>28.830347</td>\n",
       "      <td>41.377256</td>\n",
       "      <td>-30.323204</td>\n",
       "      <td>{'gamma': 0.0, 'learning_rate': 0.1, 'n_estimators': 500, 'reg_alpha': 0.0, 'reg_lambda': 1.0, 'subsample': 0.5}</td>\n",
       "    </tr>\n",
       "    <tr>\n",
       "      <th>15</th>\n",
       "      <td>36.387838</td>\n",
       "      <td>49.521626</td>\n",
       "      <td>-26.521317</td>\n",
       "      <td>{'gamma': 0.0, 'learning_rate': 0.1, 'n_estimators': 500, 'reg_alpha': 0.0, 'reg_lambda': 1.0, 'subsample': 0.1}</td>\n",
       "    </tr>\n",
       "    <tr>\n",
       "      <th>8</th>\n",
       "      <td>33.233454</td>\n",
       "      <td>43.472949</td>\n",
       "      <td>-23.553715</td>\n",
       "      <td>{'gamma': 0.0, 'learning_rate': 0.05, 'n_estimators': 500, 'reg_alpha': 0.0, 'reg_lambda': 1.0, 'subsample': 1.0}</td>\n",
       "    </tr>\n",
       "    <tr>\n",
       "      <th>14</th>\n",
       "      <td>33.795042</td>\n",
       "      <td>43.655908</td>\n",
       "      <td>-22.587701</td>\n",
       "      <td>{'gamma': 0.0, 'learning_rate': 0.1, 'n_estimators': 200, 'reg_alpha': 0.0, 'reg_lambda': 1.0, 'subsample': 1.0}</td>\n",
       "    </tr>\n",
       "    <tr>\n",
       "      <th>7</th>\n",
       "      <td>32.579003</td>\n",
       "      <td>41.711452</td>\n",
       "      <td>-21.894344</td>\n",
       "      <td>{'gamma': 0.0, 'learning_rate': 0.05, 'n_estimators': 500, 'reg_alpha': 0.0, 'reg_lambda': 1.0, 'subsample': 0.5}</td>\n",
       "    </tr>\n",
       "    <tr>\n",
       "      <th>13</th>\n",
       "      <td>33.892677</td>\n",
       "      <td>41.725038</td>\n",
       "      <td>-18.771368</td>\n",
       "      <td>{'gamma': 0.0, 'learning_rate': 0.1, 'n_estimators': 200, 'reg_alpha': 0.0, 'reg_lambda': 1.0, 'subsample': 0.5}</td>\n",
       "    </tr>\n",
       "    <tr>\n",
       "      <th>11</th>\n",
       "      <td>36.541737</td>\n",
       "      <td>44.812594</td>\n",
       "      <td>-18.456546</td>\n",
       "      <td>{'gamma': 0.0, 'learning_rate': 0.1, 'n_estimators': 100, 'reg_alpha': 0.0, 'reg_lambda': 1.0, 'subsample': 1.0}</td>\n",
       "    </tr>\n",
       "    <tr>\n",
       "      <th>5</th>\n",
       "      <td>36.646938</td>\n",
       "      <td>44.817959</td>\n",
       "      <td>-18.231578</td>\n",
       "      <td>{'gamma': 0.0, 'learning_rate': 0.05, 'n_estimators': 200, 'reg_alpha': 0.0, 'reg_lambda': 1.0, 'subsample': 1.0}</td>\n",
       "    </tr>\n",
       "    <tr>\n",
       "      <th>6</th>\n",
       "      <td>37.831386</td>\n",
       "      <td>45.478613</td>\n",
       "      <td>-16.814995</td>\n",
       "      <td>{'gamma': 0.0, 'learning_rate': 0.05, 'n_estimators': 500, 'reg_alpha': 0.0, 'reg_lambda': 1.0, 'subsample': 0.1}</td>\n",
       "    </tr>\n",
       "  </tbody>\n",
       "</table>\n",
       "</div>"
      ],
      "text/plain": [
       "    mean_train_score_rmse  mean_test_score_rmse  diff_train_test_perc  \\\n",
       "17              28.795420             43.221913            -33.377730   \n",
       "16              28.830347             41.377256            -30.323204   \n",
       "15              36.387838             49.521626            -26.521317   \n",
       "8               33.233454             43.472949            -23.553715   \n",
       "14              33.795042             43.655908            -22.587701   \n",
       "7               32.579003             41.711452            -21.894344   \n",
       "13              33.892677             41.725038            -18.771368   \n",
       "11              36.541737             44.812594            -18.456546   \n",
       "5               36.646938             44.817959            -18.231578   \n",
       "6               37.831386             45.478613            -16.814995   \n",
       "\n",
       "                                                                                                               params  \n",
       "17   {'gamma': 0.0, 'learning_rate': 0.1, 'n_estimators': 500, 'reg_alpha': 0.0, 'reg_lambda': 1.0, 'subsample': 1.0}  \n",
       "16   {'gamma': 0.0, 'learning_rate': 0.1, 'n_estimators': 500, 'reg_alpha': 0.0, 'reg_lambda': 1.0, 'subsample': 0.5}  \n",
       "15   {'gamma': 0.0, 'learning_rate': 0.1, 'n_estimators': 500, 'reg_alpha': 0.0, 'reg_lambda': 1.0, 'subsample': 0.1}  \n",
       "8   {'gamma': 0.0, 'learning_rate': 0.05, 'n_estimators': 500, 'reg_alpha': 0.0, 'reg_lambda': 1.0, 'subsample': 1.0}  \n",
       "14   {'gamma': 0.0, 'learning_rate': 0.1, 'n_estimators': 200, 'reg_alpha': 0.0, 'reg_lambda': 1.0, 'subsample': 1.0}  \n",
       "7   {'gamma': 0.0, 'learning_rate': 0.05, 'n_estimators': 500, 'reg_alpha': 0.0, 'reg_lambda': 1.0, 'subsample': 0.5}  \n",
       "13   {'gamma': 0.0, 'learning_rate': 0.1, 'n_estimators': 200, 'reg_alpha': 0.0, 'reg_lambda': 1.0, 'subsample': 0.5}  \n",
       "11   {'gamma': 0.0, 'learning_rate': 0.1, 'n_estimators': 100, 'reg_alpha': 0.0, 'reg_lambda': 1.0, 'subsample': 1.0}  \n",
       "5   {'gamma': 0.0, 'learning_rate': 0.05, 'n_estimators': 200, 'reg_alpha': 0.0, 'reg_lambda': 1.0, 'subsample': 1.0}  \n",
       "6   {'gamma': 0.0, 'learning_rate': 0.05, 'n_estimators': 500, 'reg_alpha': 0.0, 'reg_lambda': 1.0, 'subsample': 0.1}  "
      ]
     },
     "execution_count": 259,
     "metadata": {},
     "output_type": "execute_result"
    }
   ],
   "source": [
    "cvres = grid_search.cv_results_\n",
    "df_cvres = pd.DataFrame(grid_search.cv_results_)\n",
    "df_cvres.columns\n",
    "df_cvres['mean_train_score_rmse'] = np.sqrt(-df_cvres['mean_train_score'])\n",
    "df_cvres['mean_test_score_rmse'] = np.sqrt(-df_cvres['mean_test_score'])\n",
    "\n",
    "df_cvres = df_cvres[[\"mean_train_score_rmse\", \"mean_test_score_rmse\", \"params\"]]\n",
    "df_cvres.insert(2,column='diff_train_test_perc', \n",
    "                value=(df_cvres['mean_train_score_rmse']/df_cvres['mean_test_score_rmse'] - 1)*100 )\n",
    "df_cvres.sort_values('diff_train_test_perc').head(10)\n",
    "\n"
   ]
  },
  {
   "cell_type": "code",
   "execution_count": null,
   "id": "f5a45063-f5a7-472f-b2dd-86db4ff3b557",
   "metadata": {},
   "outputs": [],
   "source": []
  },
  {
   "cell_type": "markdown",
   "id": "b4149718-fa0e-4e8f-b9f4-42a81314b71d",
   "metadata": {},
   "source": [
    "#### Chosen model"
   ]
  },
  {
   "cell_type": "code",
   "execution_count": 386,
   "id": "4480e19e-506a-42d0-aaf7-1ba6b1e635b4",
   "metadata": {},
   "outputs": [
    {
     "data": {
      "text/plain": [
       "XGBRegressor(base_score=0.5, booster='gbtree', colsample_bylevel=1,\n",
       "             colsample_bynode=1, colsample_bytree=1, gamma=0.0, gpu_id=-1,\n",
       "             importance_type='gain', interaction_constraints='',\n",
       "             learning_rate=0.05, max_delta_step=0, max_depth=6,\n",
       "             min_child_weight=1, missing=nan, monotone_constraints='()',\n",
       "             n_estimators=500, n_jobs=0, num_parallel_tree=1, random_state=0,\n",
       "             reg_alpha=0.0, reg_lambda=1.0, scale_pos_weight=1, subsample=0.5,\n",
       "             tree_method='hist', validate_parameters=1, verbosity=None)"
      ]
     },
     "execution_count": 386,
     "metadata": {},
     "output_type": "execute_result"
    }
   ],
   "source": [
    "xgb_reg_optim = xgboost.XGBRegressor(tree_method=\"hist\", \n",
    "                                     gamma = 0.0, \n",
    "                                     learning_rate=0.05, \n",
    "                                     n_estimators=500, \n",
    "                                     reg_alpha=0.0, \n",
    "                                     reg_lambda=1.0, \n",
    "                                     subsample=0.5)\n",
    "\n",
    "xgb_reg_optim.fit(X_train,y_train.ravel())"
   ]
  },
  {
   "cell_type": "code",
   "execution_count": 409,
   "id": "7399a510-366b-4bcf-b4ea-c55e93ea6e13",
   "metadata": {},
   "outputs": [
    {
     "data": {
      "image/png": "[encoded data removed]",
      "text/plain": [
       "<Figure size 432x288 with 1 Axes>"
      ]
     },
     "metadata": {
      "needs_background": "light"
     },
     "output_type": "display_data"
    }
   ],
   "source": [
    "imps_xgb = xgb_reg_optim.feature_importances_\n",
    "plot_feature_importances(imps_xgb, all_features_training, \"Gradient Boosting\", 0.01)"
   ]
  },
  {
   "cell_type": "markdown",
   "id": "85e236fe-7d71-49a6-bc11-987a3fcb0327",
   "metadata": {},
   "source": [
    "#### Predictions on the test set"
   ]
  },
  {
   "cell_type": "code",
   "execution_count": 387,
   "id": "a35ea693-2db9-4223-8864-1922caca0af2",
   "metadata": {},
   "outputs": [
    {
     "data": {
      "text/plain": [
       "(657, 162)"
      ]
     },
     "execution_count": 387,
     "metadata": {},
     "output_type": "execute_result"
    }
   ],
   "source": [
    "df_test_nohistory = df_test[df_test['has_previous_history'] == 0].copy()\n",
    "df_test_nohistory = df_test_nohistory.drop(columns=['has_previous_history','year_factor'])\n",
    "\n",
    "X_test = df_test_nohistory.iloc[:,1:].values\n",
    "X_test.shape"
   ]
  },
  {
   "cell_type": "code",
   "execution_count": 388,
   "id": "cf302184-3c12-4b10-8530-e2ae28693e6b",
   "metadata": {},
   "outputs": [
    {
     "data": {
      "text/plain": [
       "(657,)"
      ]
     },
     "execution_count": 388,
     "metadata": {},
     "output_type": "execute_result"
    }
   ],
   "source": [
    "xgb_reg_optim = grid_search.best_estimator_\n",
    "y_predict_test_nohistory = xgb_reg_optim.predict(X_test)\n",
    "y_predict_test_nohistory.shape"
   ]
  },
  {
   "cell_type": "code",
   "execution_count": 389,
   "id": "1a7b5f3f-1208-4877-9e85-fce5ebf34932",
   "metadata": {},
   "outputs": [],
   "source": [
    "#y_predict_test_nohistory"
   ]
  },
  {
   "cell_type": "markdown",
   "id": "715feaa7-fe39-4ea4-8f2b-f76efe02553c",
   "metadata": {},
   "source": [
    "# Submission"
   ]
  },
  {
   "cell_type": "markdown",
   "id": "a7f19f94-a447-4f0d-9ac4-0c08438f34fc",
   "metadata": {},
   "source": [
    "### Get the id"
   ]
  },
  {
   "cell_type": "code",
   "execution_count": 390,
   "id": "4292996d-18f5-4bc4-adab-0ece8d7a40d5",
   "metadata": {},
   "outputs": [
    {
     "data": {
      "text/plain": [
       "(9705, 79)"
      ]
     },
     "execution_count": 390,
     "metadata": {},
     "output_type": "execute_result"
    }
   ],
   "source": [
    "df_pre_train,df_pre_test = splitTestTrain(df_preprocessed)\n",
    "df_pre_test.shape"
   ]
  },
  {
   "cell_type": "code",
   "execution_count": 391,
   "id": "f2b54b6b-877c-43db-9b0a-1fd751a1d1a4",
   "metadata": {},
   "outputs": [
    {
     "data": {
      "text/plain": [
       "((9048,), (657,))"
      ]
     },
     "execution_count": 391,
     "metadata": {},
     "output_type": "execute_result"
    }
   ],
   "source": [
    "df_pre_test_history = df_pre_test.loc[df_pre_test['has_previous_history']==1]\n",
    "df_pre_test_nohistory = df_pre_test.loc[df_pre_test['has_previous_history']==0]\n",
    "\n",
    "test_id_history = df_pre_test_history['id'].copy()\n",
    "test_id_nohistory = df_pre_test_nohistory['id'].copy()\n",
    "\n",
    "test_id_history.shape,test_id_nohistory.shape"
   ]
  },
  {
   "cell_type": "code",
   "execution_count": 392,
   "id": "5d22eeca-31a9-47ac-9a2c-64984a3b40b2",
   "metadata": {},
   "outputs": [
    {
     "data": {
      "text/plain": [
       "((9705,), (9705,))"
      ]
     },
     "execution_count": 392,
     "metadata": {},
     "output_type": "execute_result"
    }
   ],
   "source": [
    "test_id = np.concatenate((test_id_history,test_id_nohistory), axis=0)\n",
    "test_y_predict = np.concatenate((y_predict_test_history,y_predict_test_nohistory), axis=0)\n",
    "\n",
    "test_id.shape,test_y_predict.shape"
   ]
  },
  {
   "cell_type": "code",
   "execution_count": 393,
   "id": "df337948-c794-4812-86a2-6a95adb1c33e",
   "metadata": {},
   "outputs": [],
   "source": [
    "df_test_predict = pd.DataFrame(data={'id':test_id,'site_eui':test_y_predict}).sort_values('id')\n",
    "df_test_predict.to_csv('solution_v01.csv', index=False)"
   ]
  }
 ],
 "metadata": {
  "kernelspec": {
   "display_name": "Python 3 (ipykernel)",
   "language": "python",
   "name": "python3"
  },
  "language_info": {
   "codemirror_mode": {
    "name": "ipython",
    "version": 3
   },
   "file_extension": ".py",
   "mimetype": "text/x-python",
   "name": "python",
   "nbconvert_exporter": "python",
   "pygments_lexer": "ipython3",
   "version": "3.8.10"
  }
 },
 "nbformat": 4,
 "nbformat_minor": 5
}
