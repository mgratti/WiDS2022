{
 "cells": [
  {
   "cell_type": "markdown",
   "id": "04a0b1e0-76aa-4b5a-8f71-e8a747b88782",
   "metadata": {},
   "source": [
    "# Considerations for the solution\n",
    "\n",
    "The solution notebook is wids_challenge.ipynb. Here some considerations on the solution."
   ]
  },
  {
   "cell_type": "markdown",
   "id": "9c48493a-7b07-4e4f-bf32-24d93a1ecc94",
   "metadata": {},
   "source": [
    "## Reconstructing a building history\n",
    "\n",
    "We note that there are observations for years 1-6 in the training set, and on year 7 in the test set, suggesting that one could use information about **past site_eui** readings to predict the current ones.\n",
    "\n",
    "The first step is to create an id to identiy a building through it history. We opt for a **building_id** based on facility_type, is_residential, floor_area, year_built.\n",
    "\n",
    "*Note:* We have excluded elevation for the creation of the id, because we found examples where the building had the same characteristics, the same values for the temperatures, but different values of elevation, which does not make sense. \n",
    "Given that elevation still has some correlation with the target, we do not drop it altogether, but we won't use it for the building id determination.\n",
    "\n",
    "The building_id allows us to look back in time and use the information from the previous years to predict the site_eui on year 7. \n",
    "\n",
    "We can then **add features associated to the past history**, like how different the temperatures are to the previous year, what was the target the previous year, what was the energy rating the previous year or the energy rating difference with this year.  (try to be inclusive here, then check which are the more promising features using Pearson and Distance correlation)\n",
    "\n",
    "These features are expected to be highly correlated with the target, probably more than any other feature, other than energy star rating; in fact all other features contain only generic indications of how much energy a building consumes.\n"
   ]
  },
  {
   "cell_type": "markdown",
   "id": "7d3159e9-e9c2-4ac0-a66f-6a87a79507b4",
   "metadata": {},
   "source": [
    "### Note on shift and diff methods\n",
    "\n",
    "Shift methods, either applied on the groups and indexed by the groups, or transformed and applied on the original dataframe give the same values; this is the wanted behaviour\n",
    "\n",
    "It's not the same for diff... why? Or which one should be trusted?\n",
    "\n",
    "Transform diff cannot be trusted. But the diff method applied on the groupby operation works like the by-hand operation. So it can be used \n",
    "\n",
    "\n",
    "```\n",
    "df['energy_star_rating_lagged_1'] = df.groupby('building_id')['energy_star_rating'].transform('shift').fillna(-300)\n",
    "df['energy_star_rating_diff_1'] = df['energy_star_rating'] - df['energy_star_rating_lagged_1']\n",
    "df['energy_star_rating_diff_1_td'] = df.groupby('building_id')['energy_star_rating'].transform('diff')\n",
    "df['energy_star_rating_diff_1_d'] = df.groupby('building_id')['energy_star_rating'].diff()\n",
    "\n",
    "(df['energy_star_rating_diff_1'] - df['energy_star_rating_diff_1_td']).sum()\n",
    "==> non-zero value\n",
    "\n",
    "(df['energy_star_rating_diff_1'] - df['energy_star_rating_diff_1_d']).sum()\n",
    "==> 0\n",
    "```"
   ]
  },
  {
   "cell_type": "markdown",
   "id": "307839e7-a88d-4304-941f-fa5f15834403",
   "metadata": {},
   "source": [
    "## Two models for two parts of the dataset\n",
    "\n",
    "\n",
    "I incur in the **problem** that **we don't always have a history of one or two years**: how to fill the values there? ideally I would drop those instances that do not have past history. But about 6-7% of the instances in the test set do not have past history and I need a prediction for those as well. \n",
    "A possibility is to divide the training and test set into further sets, depending whether they have past history or not, and train two different models.\n",
    "\n",
    "Could a single model handle the two cases at the same time? \n",
    "\n",
    "A decisiontree regressor is expected to be able to do that: it has the capacity to use differently the features to predict the target depending on which \"category\" the data belongs to (in this case, whether there is previous history or not).\n",
    "\n",
    "On the contrary, we don't expect a linear model to be able to do that, given that it's a sum of linear terms. We would likely need two separate models. "
   ]
  },
  {
   "cell_type": "markdown",
   "id": "07588fda-254b-4172-b3f6-77a3a617d83c",
   "metadata": {},
   "source": [
    "## Results (events with history)\n",
    "if we limit ourselves to the cases where we have previous history, which in the test set represents about 93% of the cases, we find that the site_eui of the previous year has about 90% linear correlation with the site_eui of this year. We decide to train a linear model based on the first best correlated features (absolute values are shown)\n",
    "\n",
    "\n",
    "```\n",
    "site_eui_lag_1                        0.912507\n",
    "energy_star_rating                    0.426835\n",
    "energy_star_rating_lag_1              0.392748\n",
    "site_eui_lag_2                        0.190093\n",
    "january_min_temp                      0.176666\n",
    "cooling_heating_degree_days           0.166191\n",
    "january_avg_temp                      0.162738\n",
    "```\n",
    "\n",
    "Even with only the first feature we reach an RMSE of about RMSE=22 (~1% diff wrt training, almost no overtraining). When\n",
    "adding the extra features (scaled appropriately) we actually get lower performance, about RMSE=23 (0.1% diff wrt training, which gauges the size of the overtraining)"
   ]
  },
  {
   "cell_type": "markdown",
   "id": "d722c9b3-4003-4b9c-b0e9-e05283aa73df",
   "metadata": {},
   "source": [
    "## Results (events without history) \n",
    "For the remaining events without history we train a BDT. For the feature engineering we excluded quantities that could bias the result, like the year_factor and has_previous_history, include essentially all other features, with proper encodings and scaling, and added average temperatures per season.\n",
    "\n",
    "We train the BDT on all events in the training set. With very little optimisation, we obtain an RMSE of about 44.\n",
    "\n",
    "The most important features, are, not unexpectedly, the facility_type categories; we had noticed how different the distributions of the target were depending on the facility_type.\n",
    "\n",
    "Other than the facility type, other features among the most important are the min temperature in winter and the energy star rating (the latter is expected, given the high correlation ~0.4 with the target, the former a bit less expected)"
   ]
  },
  {
   "cell_type": "markdown",
   "id": "74db77c7-626c-4ac6-8b74-9c5fb670ed50",
   "metadata": {},
   "source": [
    "## Results total\n",
    "We get an overall expected performance of about 23.54, obtained by weighting the sum of the RMSEs by the percentage of events with and without history, which would have gotten the 83rd place if we had participated to the challenge while it was open."
   ]
  },
  {
   "cell_type": "markdown",
   "id": "7d33a848-f26a-4361-bc36-82b0806d0113",
   "metadata": {},
   "source": [
    "## Some random considerations"
   ]
  },
  {
   "cell_type": "markdown",
   "id": "67b27196-4a32-48c6-9890-1f88f485b4c3",
   "metadata": {},
   "source": [
    "Something in the back of my mind: is it better to drop examples when you have a strong predictor with missing value, like energy star rating? I am worried that imputing is actually worse for the performance, rather than setting it to zero. Another possibility is to train different models, depending whether or not this information is available"
   ]
  }
 ],
 "metadata": {
  "kernelspec": {
   "display_name": "Python 3 (ipykernel)",
   "language": "python",
   "name": "python3"
  },
  "language_info": {
   "codemirror_mode": {
    "name": "ipython",
    "version": 3
   },
   "file_extension": ".py",
   "mimetype": "text/x-python",
   "name": "python",
   "nbconvert_exporter": "python",
   "pygments_lexer": "ipython3",
   "version": "3.8.10"
  }
 },
 "nbformat": 4,
 "nbformat_minor": 5
}
